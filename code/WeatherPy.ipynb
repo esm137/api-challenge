{
 "cells": [
  {
   "cell_type": "markdown",
   "metadata": {},
   "source": [
    "# WeatherPy\n",
    "----\n",
    "\n",
    "#### Note\n",
    "* Instructions have been included for each segment. You do not have to follow them exactly, but they are included to help you think through the steps."
   ]
  },
  {
   "cell_type": "code",
   "execution_count": null,
   "metadata": {},
   "outputs": [],
   "source": [
    "#be sure to include api_keys file with your api keys"
   ]
  },
  {
   "cell_type": "code",
   "execution_count": 1,
   "metadata": {
    "scrolled": true
   },
   "outputs": [],
   "source": [
    "# Dependencies and Setup\n",
    "import matplotlib.pyplot as plt\n",
    "import pandas as pd\n",
    "import numpy as np\n",
    "import requests\n",
    "import time\n",
    "from scipy.stats import linregress\n",
    "\n",
    "# Import API key\n",
    "from api_keys import weather_api_key\n",
    "\n",
    "# Incorporated citipy to determine city based on latitude and longitude\n",
    "from citipy import citipy\n",
    "\n",
    "# Output File (CSV)\n",
    "output_data_file = \"output_data/cities.csv\"\n",
    "\n",
    "# Range of latitudes and longitudes\n",
    "lat_range = (-90, 90)\n",
    "lng_range = (-180, 180)"
   ]
  },
  {
   "cell_type": "markdown",
   "metadata": {},
   "source": [
    "## Generate Cities List"
   ]
  },
  {
   "cell_type": "code",
   "execution_count": 3,
   "metadata": {},
   "outputs": [
    {
     "data": {
      "text/plain": [
       "646"
      ]
     },
     "execution_count": 3,
     "metadata": {},
     "output_type": "execute_result"
    }
   ],
   "source": [
    "# List for holding lat_lngs and cities\n",
    "lat_lngs = []\n",
    "cities = []\n",
    "\n",
    "# Create a set of random lat and lng combinations\n",
    "lats = np.random.uniform(lat_range[0], lat_range[1], size=1700)\n",
    "lngs = np.random.uniform(lng_range[0], lng_range[1], size=1700)\n",
    "lat_lngs = zip(lats, lngs)\n",
    "\n",
    "# Identify nearest city for each lat, lng combination\n",
    "for lat_lng in lat_lngs:\n",
    "    city = citipy.nearest_city(lat_lng[0], lat_lng[1]).city_name\n",
    "    \n",
    "    # If the city is unique, then add it to a our cities list\n",
    "    if city not in cities:\n",
    "        cities.append(city)\n",
    "\n",
    "# Print the city count to confirm sufficient count\n",
    "len(cities)"
   ]
  },
  {
   "cell_type": "markdown",
   "metadata": {},
   "source": [
    "### Perform API Calls\n",
    "* Perform a weather check on each city using a series of successive API calls.\n",
    "* Include a print log of each city as it'sbeing processed (with the city number and city name).\n"
   ]
  },
  {
   "cell_type": "code",
   "execution_count": 23,
   "metadata": {
    "scrolled": true
   },
   "outputs": [
    {
     "name": "stdout",
     "output_type": "stream",
     "text": [
      "534313 Lomovka\n",
      "2108857 Gizo Government Station\n",
      "2270385 Camacha\n",
      "2460954 Araouane\n",
      "964432 Port Alfred\n",
      "3985710 Cabo San Lucas\n",
      "933995 Souillac\n",
      "1507390 Dikson\n",
      "1279306 Afzalpur\n",
      "3393692 Itarema\n",
      "2122090 Pevek\n",
      "6185377 Yellowknife\n",
      "4035715 Avarua\n",
      "3389321 Santa Rita\n",
      "1529376 Korla\n",
      "2110227 Butaritari\n",
      "1488632 Uglovskoye\n",
      "2022572 Khatanga\n",
      "692315 Sudak\n",
      "3833367 Ushuaia\n",
      "5122534 Jamestown\n",
      "1485020 Znamenskoye\n",
      "780687 Berlevåg\n",
      "4030556 Rikitea\n",
      "729730 Kyustendil\n",
      "3440777 Rocha\n",
      "1490256 Talnakh\n",
      "1788852 Xining\n",
      "2016216 Sosnovo-Ozerskoye\n",
      "218680 Boende\n",
      "1488920 Turochak\n",
      "3831208 Qaanaaq\n",
      "1015776 Bredasdorp\n",
      "2075265 Busselton\n",
      "110690 Faya\n",
      "3874787 Punta Arenas\n",
      "3366880 Hermanus\n",
      "2155415 New Norfolk\n",
      "4421935 Clarksdale\n",
      "2112309 Katsuura\n",
      "2191562 Dunedin\n",
      "5106841 Albany\n",
      "3395981 Maceió\n",
      "5880054 Barrow\n",
      "1254046 Tura\n",
      "3372964 Lagoa\n",
      "3652764 Puerto Ayora\n",
      "2337680 Illela\n",
      "2643044 Margate\n",
      "315202 Eskişehir\n",
      "2180815 Tuatapere\n",
      "2206939 Bluff\n",
      "1735106 George Town\n",
      "2210554 Sirte\n",
      "5866583 Saint Paul Harbor\n",
      "6170031 Tuktoyaktuk\n",
      "2194098 Ahipara\n",
      "3419842 Sisimiut\n",
      "1486321 Yar-Sale\n",
      "1649150 Bengkulu\n",
      "933649 Khakhea\n",
      "4252060 Virden\n",
      "3447597 Sidrolândia\n",
      "1524243 Georgiyevka\n",
      "3471451 Arraial do Cabo\n",
      "1734052 Sandakan\n",
      "1513087 Nurota\n",
      "6201424 Mataura\n",
      "2171099 Codrington\n",
      "1686123 Siocon\n",
      "2038198 Chaihe\n",
      "1633419 Padang\n",
      "2121385 Severo-Kuril'sk\n",
      "364933 Umm Kaddadah\n",
      "679902 Curteşti\n",
      "3492908 Santo Domingo\n",
      "3369157 Cape Town\n",
      "580969 Arkhipo-Osipovka\n",
      "64435 Berbera\n",
      "3443061 Chui\n",
      "5848280 Kapaa\n",
      "3418910 Upernavik\n",
      "2137773 Vao\n",
      "1106643 Quatre Cocos\n",
      "5983607 Inuvik\n",
      "3430863 Mar del Plata\n",
      "4362001 Mayo\n",
      "3359736 Vredendal\n",
      "1529484 Kumul\n",
      "3466165 Cidreira\n",
      "2013279 Vostok\n",
      "1804979 Juegang\n",
      "2439155 Tanout\n",
      "2181625 Te Anau\n",
      "6096551 Pangnirtung\n",
      "4726521 San Patricio\n",
      "5746545 Portland\n",
      "1789647 Xichang\n",
      "5855927 Hilo\n",
      "3723593 Jérémie\n",
      "5972291 Havre-St-Pierre\n",
      "3827693 La Macarena\n",
      "1701054 Marawi\n",
      "3175096 Laas\n",
      "1489822 Tegul'det\n",
      "4032243 Vaini\n",
      "3466704 Castro\n",
      "608324 Shetpe\n",
      "2264557 Ponta do Sol\n",
      "6078372 Moose Factory\n",
      "553766 Kamenka\n",
      "1717787 Catuday\n",
      "6149996 Smithers\n",
      "2889709 Kleinblittersdorf\n",
      "103630 Najrān\n",
      "2088659 Panguna\n",
      "546105 Nikolskoye\n",
      "605155 Kiruna\n",
      "4034551 Faanui\n",
      "1282256 Hithadhoo\n",
      "2163355 Hobart\n",
      "2077895 Alice Springs\n",
      "471308 Voyvozh\n",
      "537541 Kvarkeno\n",
      "2015306 Tiksi\n",
      "380348 Abū Zabad\n",
      "1804169 Lengshuijiang\n",
      "777682 Skjervøy\n",
      "3837702 San Fernando del Valle de Catamarca\n",
      "545626 Kondopoga\n",
      "5379533 Orange Cove\n",
      "1855540 Naze\n",
      "477940 Ust-Tsilma\n",
      "2012530 Zhigansk\n",
      "3435264 Concepción del Uruguay\n",
      "565611 Dolgorukovo\n",
      "2208248 Kaitangata\n",
      "762199 Pionki\n",
      "3445348 Wenceslau Braz\n",
      "2172880 Byron Bay\n",
      "1006984 East London\n",
      "1513491 Yangi Marg`ilon\n",
      "2034440 Tieli\n",
      "5563397 Eureka\n",
      "2068110 Kununurra\n",
      "4513583 Hamilton\n",
      "1142263 Farah\n",
      "3347019 Mossamedes\n",
      "2381334 Atar\n",
      "964420 Port Elizabeth\n",
      "2017155 Saskylakh\n",
      "6141439 Sault Ste. Marie\n",
      "1502073 Krasnosel'kup\n",
      "1640902 Kawalu\n",
      "1855342 Nishihara\n",
      "5546220 Saint George\n",
      "4020109 Atuona\n",
      "933288 Mopipi\n",
      "3355672 Lüderitz\n",
      "1511381 Aromashevo\n",
      "3792382 Cartagena del Chairá\n",
      "2022463 Khilok\n",
      "5044290 Saint Anthony\n",
      "1262039 Namakkal\n",
      "3424607 Tasiilaq\n",
      "6165406 Thompson\n",
      "3883457 Lebu\n",
      "3675504 Manaure\n",
      "80509 Al Bardīyah\n",
      "1847947 Shingū\n",
      "3430443 Necochea\n",
      "5849996 Lahaina\n",
      "3893726 Constitución\n",
      "2013216 Vysokogornyy\n",
      "1526041 Atasū\n",
      "2662689 Visby\n",
      "2172797 Cairns\n",
      "3692020 Nauta\n",
      "1283679 Banepā\n",
      "2063042 Port Hedland\n",
      "2527087 Tiznit Province\n",
      "3393762 Oeiras do Pará\n",
      "3531571 Cardonal\n",
      "2308278 Mbini\n",
      "1819729 Hong Kong\n",
      "1261375 Nimāparha\n",
      "3446038 Trindade\n",
      "1214488 Meulaboh\n",
      "2361177 Djibo\n",
      "2146108 Traralgon\n",
      "4997130 Ingham\n",
      "95788 Hīt\n",
      "3372707 Ribeira Grande\n",
      "510342 Pestretsy\n",
      "2632287 Dalvik\n",
      "2214432 Nālūt\n",
      "2610343 Vestmanna\n",
      "1106677 Bambous Virieux\n",
      "64814 Bandarbeyla\n",
      "2278158 Buchanan\n",
      "2304548 Anloga\n",
      "2269142 Colares\n",
      "2459775 Bougouni\n",
      "2132606 Samarai\n",
      "4031574 Provideniya\n",
      "577922 Belomorsk\n",
      "544397 Kortkeros\n",
      "2070998 Geraldton\n",
      "3939168 Huarmey\n",
      "1808857 Hanzhong\n",
      "6095416 Outlook\n",
      "3991347 Puerto Peñasco\n",
      "2455216 Kita\n",
      "4845585 Westport\n",
      "556268 Ostrovnoy\n",
      "2038067 Chifeng\n",
      "3105522 Bereda\n",
      "1273294 Delhi\n",
      "333772 Jimma\n",
      "5367788 Lompoc\n",
      "2255542 Owando\n",
      "6620339 Karratha\n",
      "1650434 Bambanglipuro\n",
      "2282006 San-Pédro\n",
      "2228079 Mbalmayo\n",
      "1571058 Phan Thiet\n",
      "3193545 Peći\n",
      "3395458 Maragogi\n",
      "126409 Kūhdasht\n",
      "934322 Mahébourg\n",
      "1492566 Severo-Yeniseyskiy\n",
      "3386213 Touros\n",
      "2629833 Husavik\n",
      "2729907 Longyearbyen\n",
      "2160517 Launceston\n",
      "6050066 La Ronge\n",
      "5134295 Rome\n",
      "533964 Loukhi\n",
      "3356332 Karibib\n",
      "986717 Kruisfontein\n",
      "6089245 Norman Wells\n",
      "915471 Kalabo\n",
      "3836277 Santa Fe\n",
      "5380437 Pacific Grove\n",
      "3459352 Ladário\n",
      "2033675 Xinmin\n",
      "1632694 Pangkalanbuun\n",
      "1786060 Yuanping\n",
      "1254657 Thānesar\n",
      "1520281 Oytal\n",
      "2246901 Oussouye\n",
      "3171985 Orbetello\n",
      "2122389 Ossora\n",
      "918905 Chinsali\n",
      "3421765 Nanortalik\n",
      "2315728 Gemena\n",
      "1529660 Aksu\n",
      "6167817 Torbay\n",
      "3397763 Jacareacanga\n",
      "2425791 Kibala\n",
      "134721 Fasa\n",
      "6944113 Mont-Joli\n",
      "863061 Usinsk\n",
      "3391889 Pitimbu\n",
      "4328010 Houma\n",
      "3839307 Rawson\n",
      "2265888 Montemor-o-Novo\n",
      "1052373 Beira\n",
      "1651810 Airai\n",
      "2028164 Deputatsky\n",
      "705104 Kostyantynivka\n",
      "6355222 Yulara\n",
      "2126123 Chokurdakh\n",
      "2178753 Kirakira\n",
      "3374083 Bathsheba\n",
      "2100933 Ambunti\n",
      "3361934 Saldanha\n",
      "3423146 Ilulissat\n",
      "3421719 Narsaq\n",
      "5166009 Painesville\n",
      "159179 Ilula\n",
      "2112802 Hasaki\n",
      "7647007 Bariloche\n",
      "4036284 Alofi\n",
      "371745 Kutum\n",
      "1735902 Sibu\n",
      "5282297 Bethel\n",
      "2112576 Ishinomaki\n",
      "2257990 Madingou\n",
      "5983720 Iqaluit\n",
      "2214846 Misratah\n",
      "189280 Lodwar\n",
      "2092164 Lorengau\n",
      "4588165 Mt. Pleasant\n",
      "1185117 Narsingdi\n",
      "1215502 Banda Aceh\n",
      "1244926 Hambantota\n",
      "2037485 Erenhot\n",
      "2074865 Carnarvon\n",
      "5955826 Fort Frances\n",
      "3948613 Acarí\n",
      "3448903 São João da Barra\n",
      "563300 Fatezh\n",
      "5404476 Ukiah\n",
      "3388456 São José da Coroa Grande\n",
      "921786 Mitsamiouli\n",
      "1835848 Seoul\n",
      "1497917 Nefteyugansk\n",
      "964712 Plettenberg Bay\n",
      "1496503 Noyabrsk\n",
      "4177872 West Melbourne\n",
      "2964492 Dunmore East\n",
      "4407010 Saint Joseph\n",
      "5882953 Aklavik\n",
      "3412093 Vestmannaeyjar\n",
      "1714733 Dingle\n",
      "3461641 Iaciara\n",
      "4013679 Coahuayana Viejo\n",
      "1528998 Yumen\n",
      "1488167 Ust'-Koksa\n",
      "2094027 Kieta\n",
      "1067565 Beloha\n",
      "6316343 Alta Floresta\n",
      "2033423 Yebaishou\n",
      "3491161 Bull Savanna\n",
      "2618795 Klaksvík\n",
      "8079926 Labuhan\n",
      "363619 Yei\n",
      "3433899 Formosa\n",
      "3354071 Oranjemund\n",
      "3392862 Patu\n",
      "499025 Samoded\n",
      "1497543 Nizhnevartovsk\n",
      "5364022 La Palma\n",
      "945945 Upington\n",
      "5364271 Laguna\n",
      "3868626 Valparaíso\n",
      "6111862 Port Hardy\n",
      "5853992 Wahiawā\n",
      "935215 Saint-Philippe\n",
      "2019884 Mogzon\n",
      "1168700 Ormara\n",
      "2145554 Ulladulla\n",
      "2637762 Skegness\n",
      "5079250 South Sioux City\n",
      "6690296 Saint-Joseph\n",
      "1788402 Xiongzhou\n",
      "4033356 Tiarei\n",
      "1710590 Ipilan\n",
      "1856392 Muroto-misakicho\n",
      "2152659 Port Macquarie\n",
      "1801983 Luocheng\n",
      "159267 Ikungi\n",
      "3402648 Carutapera\n",
      "2514651 Los Llanos de Aridane\n",
      "3577430 Road Town\n",
      "3374210 São Filipe\n",
      "3128795 Barbastro\n",
      "1001860 Giyani\n",
      "2147714 Sydney\n",
      "2090021 Namatanai\n",
      "3663684 Lábrea\n",
      "5847411 Kahului\n",
      "2236967 Soyo\n",
      "2037252 Genhe\n",
      "2123814 Leningradskiy\n",
      "1283562 Butwāl\n",
      "582447 Almaznyy\n",
      "2119283 Zyryanka\n",
      "3059101 Levice\n",
      "2138555 Poum\n",
      "5392126 San Joaquin\n",
      "352628 Maţāy\n",
      "4026082 Lázaro Cárdenas\n",
      "2138592 Pouembout\n",
      "2171766 Charlestown\n",
      "5563839 Fortuna\n",
      "355449 Esna\n",
      "2170260 Corowa\n",
      "3690172 Algarrobo\n",
      "4021858 Guerrero Negro\n",
      "3421982 Maniitsoq\n",
      "286621 Salalah\n",
      "1519580 Saryozek\n",
      "2186722 Moerewa\n",
      "5861897 Fairbanks\n",
      "3984997 San Quintín\n",
      "463838 Zelenoborskiy\n",
      "5742974 North Bend\n",
      "3125287 Cervo\n",
      "3838859 Río Gallegos\n",
      "2156643 Mount Gambier\n",
      "501091 Rovnoye\n",
      "3902377 La Santisima Trinidad\n",
      "4032420 Neiafu\n",
      "1264037 Malpe\n",
      "1786855 Yatou\n",
      "5909514 Brooks\n",
      "151986 Namanyere\n",
      "3465145 Crixás\n",
      "3653967 Muisne\n",
      "4895282 Harvard\n",
      "1816373 Bijie\n",
      "1337607 Kudahuvadhoo\n",
      "2071860 Esperance\n",
      "889215 Kariba\n",
      "4061234 Fairhope\n",
      "1256117 Sinor\n",
      "6067747 Matagami\n",
      "1797417 Qiyang\n",
      "1516048 Khovd\n",
      "2294915 Takoradze\n",
      "3693584 Pimentel\n",
      "2126710 Beringovskiy\n",
      "3622716 Nicoya\n",
      "5921357 Chilliwack\n",
      "2120591 Tilichiki\n",
      "5354943 Half Moon Bay\n",
      "3451138 Rio Grande\n",
      "1265632 Kunda\n",
      "3843123 Neuquén\n",
      "3573681 Siparia\n",
      "1157662 Bang Saphan\n",
      "5505411 Henderson\n",
      "1174872 Karachi\n",
      "2176639 Batemans Bay\n",
      "5146062 Ashland\n",
      "4779923 Poquoson\n",
      "1580410 Hong Gai\n",
      "1731248 Alugan\n",
      "1259385 Port Blair\n",
      "2630299 Hofn\n",
      "1003764 Frankfort\n",
      "545788 Kommunar\n",
      "118063 Sabzawār\n",
      "2110560 Yamada\n",
      "3988392 Rosarito\n",
      "5952330 Ferme-Neuve\n",
      "4231997 Avera\n",
      "3531673 Cancún\n",
      "5204278 Oil City\n",
      "542184 Krasnovishersk\n",
      "1489870 Tayshet\n",
      "2063056 Port Augusta\n",
      "3115824 Muros\n",
      "187968 Malindi\n",
      "1337610 Thinadhoo\n",
      "2413866 Bansang\n",
      "88319 Benghazi\n",
      "3385980 Tucumã\n",
      "962367 Richards Bay\n",
      "2136825 Isangel\n",
      "6324729 Halifax\n",
      "3145614 Mo i Rana\n",
      "6930327 Slavutych\n",
      "343593 Āreka\n",
      "2231881 Eséka\n",
      "2212775 Sabha\n",
      "778362 Øksfjord\n",
      "4677008 Bryan\n",
      "3894426 Coyhaique\n",
      "3421193 Paamiut\n",
      "5167350 Powell\n",
      "3420846 Qaqortoq\n",
      "2610942 Ullerslev\n",
      "3452483 Prado\n",
      "5924351 Clyde River\n",
      "2098329 Daru\n",
      "3408368 Acaraú\n",
      "934649 Cap Malheureux\n",
      "4004293 Ixtapa\n",
      "4272340 Great Bend\n",
      "281133 Gaza\n",
      "5850554 Makakilo City\n",
      "3995647 Moctezuma\n",
      "2639495 Renfrew\n",
      "7671223 Kloulklubed\n",
      "1174451 Keti Bandar\n",
      "1521351 Kazygurt\n",
      "5261852 Marinette\n",
      "2145110 Wagga Wagga\n",
      "158324 Kiratu\n",
      "2209055 Waddān\n",
      "4972220 Millinocket\n",
      "3430545 Morón\n",
      "3347353 Menongue\n",
      "5915327 Cap-aux-Meules\n",
      "4301317 Morehead\n",
      "3932145 Pisco\n",
      "1033356 Nampula\n",
      "1516589 Zhezkazgan\n",
      "6065592 Maple Creek\n",
      "1267390 Kavaratti\n",
      "686090 Asău\n",
      "1249931 Beruwala\n",
      "932960 Werda\n",
      "2756669 Dordrecht\n",
      "866062 Iskateley\n",
      "1160571 Khāsh\n",
      "778707 Mehamn\n",
      "2399001 Mayumba\n",
      "2141305 Fayaoué\n",
      "1213493 Teluk Nibung\n",
      "1630789 Pontianak\n",
      "2065594 Mount Isa\n",
      "3996426 Matamoros\n",
      "3919998 Cobija\n",
      "1056899 Sambava\n",
      "2126199 Cherskiy\n",
      "456008 Rūjiena\n",
      "2303611 Esim\n",
      "777019 Vardø\n",
      "2019004 Novaya Igirma\n",
      "3369179 Caledon\n",
      "2027786 Amga\n",
      "5504003 Fernley\n",
      "5326297 Barstow\n",
      "5969025 Haines Junction\n",
      "6301965 Palmerston\n",
      "3832899 Viedma\n",
      "2157698 Mildura\n",
      "327234 Tulu Bolo\n",
      "1688781 City of San Pedro\n",
      "7117100 Vila\n",
      "924705 Nkhotakota\n",
      "3870282 Talcahuano\n",
      "3382160 Cayenne\n",
      "543246 Kozhva\n",
      "2396518 Port-Gentil\n",
      "4111382 Forrest City\n",
      "3912119 Lahuachaca\n",
      "2647984 Great Yarmouth\n",
      "2134814 Sola\n",
      "3351663 Benguela\n",
      "3837213 San Juan\n",
      "565407 Dombarovskiy\n",
      "2410065 Yamandu\n",
      "2249281 Linguère\n",
      "933815 Dekar\n",
      "3662489 Santa Isabel Rio Negro\n",
      "100926 Umluj\n",
      "3922414 Camiri\n",
      "3731095 Aquin\n",
      "3868633 Vallenar\n",
      "1082243 Ambilobe\n",
      "523392 Naryan-Mar\n",
      "594861 Šeduva\n",
      "3392996 Parnarama\n",
      "1713191 Garchitorena\n",
      "1266540 Kilvelur\n",
      "533418 Lukovetskiy\n",
      "2220853 Yokadouma\n",
      "1270820 Gudalur\n",
      "49747 Oddur\n",
      "2126682 Bilibino\n",
      "2738381 Lata\n",
      "464260 Zaterechnyy\n",
      "2444219 Gouré\n",
      "3680090 Juradó\n",
      "2032614 Baruun-Urt\n",
      "2027296 Aykhal\n",
      "2039557 Khasan\n",
      "5337908 Clearlake\n",
      "2122104 Petropavlovsk-Kamchatskiy\n",
      "6853140 Lesnoy\n",
      "3041732 Mariehamn\n",
      "237379 Ndélé\n",
      "5989403 Kapuskasing\n",
      "934479 Grand Gaube\n",
      "1651531 Ambon City\n",
      "3109254 Segovia\n",
      "1153035 Kathu\n",
      "3450083 Santa Maria\n",
      "1258338 Ratnagiri\n",
      "524901 Moscow\n",
      "2125693 Evensk\n",
      "3655131 La Libertad\n",
      "6696258 Campbellton\n",
      "2409914 Bonthe\n",
      "2139521 Noumea\n",
      "2013392 Vilyuysk\n",
      "1685422 Sulangan\n",
      "6145890 Shelburne\n",
      "3520994 Puerto Escondido\n",
      "1160939 Iranshahr\n",
      "3887127 Iquique\n",
      "3674676 Mitú\n",
      "1177042 Hasilpur\n",
      "2511150 Santa Lucía\n",
      "3356832 Henties Bay\n",
      "3526934 Hueyapan\n",
      "2088122 Port Moresby\n",
      "3939761 Hualmay\n"
     ]
    }
   ],
   "source": [
    "\n",
    "url = \"http://api.openweathermap.org/data/2.5/weather?\"\n",
    "\n",
    "\n",
    "City_ID=[]\n",
    "City=[]\n",
    "Cloudiness=[]\n",
    "Country=[]\n",
    "Date=[]\n",
    "Humidity=[]\n",
    "Lat=[]\n",
    "Lng=[]\n",
    "Max_Temp=[]\n",
    "Min_Temp=[]\n",
    "Wind_Speed=[]\n",
    "\n",
    "for city in cities:\n",
    "\n",
    "    try:\n",
    "        query_url = url + \"appid=\" + weather_api_key + \"&q=\" + city + '&units=imperial'\n",
    "        weather_response= requests.get(query_url)\n",
    "        weather_json = weather_response.json()\n",
    "        weather_json\n",
    "        City_ID.append(weather_json['id'])\n",
    "        City.append(weather_json['name'])\n",
    "        Cloudiness.append(weather_json['clouds']['all'])\n",
    "        Country.append(weather_json['sys']['country'])\n",
    "        Date.append(time.time())\n",
    "        Humidity.append(weather_json['main']['humidity'])\n",
    "        Lat.append(weather_json['coord']['lat'])\n",
    "        Lng.append(weather_json['coord']['lon'])\n",
    "        Max_Temp.append(weather_json['main']['temp_max'])\n",
    "        Min_Temp.append(weather_json['main']['temp_min'])\n",
    "        Wind_Speed.append(weather_json['wind']['speed'])\n",
    "        print(weather_json['id'],weather_json['name'])\n",
    "    except:\n",
    "        continue\n",
    "\n",
    "\n",
    "\n",
    "\n",
    "\n",
    "\n"
   ]
  },
  {
   "cell_type": "code",
   "execution_count": 22,
   "metadata": {},
   "outputs": [
    {
     "data": {
      "text/plain": [
       "{'coord': {'lon': -77.6139, 'lat': -11.0964},\n",
       " 'weather': [{'id': 804,\n",
       "   'main': 'Clouds',\n",
       "   'description': 'overcast clouds',\n",
       "   'icon': '04n'}],\n",
       " 'base': 'stations',\n",
       " 'main': {'temp': 294.67,\n",
       "  'feels_like': 294.94,\n",
       "  'temp_min': 294.67,\n",
       "  'temp_max': 294.67,\n",
       "  'pressure': 1013,\n",
       "  'humidity': 79,\n",
       "  'sea_level': 1013,\n",
       "  'grnd_level': 1007},\n",
       " 'visibility': 10000,\n",
       " 'wind': {'speed': 2.66, 'deg': 169, 'gust': 3.03},\n",
       " 'clouds': {'all': 100},\n",
       " 'dt': 1644546518,\n",
       " 'sys': {'country': 'PE', 'sunrise': 1644491388, 'sunset': 1644536383},\n",
       " 'timezone': -18000,\n",
       " 'id': 3939761,\n",
       " 'name': 'Hualmay',\n",
       " 'cod': 200}"
      ]
     },
     "execution_count": 22,
     "metadata": {},
     "output_type": "execute_result"
    }
   ],
   "source": [
    "weather_json"
   ]
  },
  {
   "cell_type": "code",
   "execution_count": 24,
   "metadata": {},
   "outputs": [
    {
     "data": {
      "text/html": [
       "<div>\n",
       "<style scoped>\n",
       "    .dataframe tbody tr th:only-of-type {\n",
       "        vertical-align: middle;\n",
       "    }\n",
       "\n",
       "    .dataframe tbody tr th {\n",
       "        vertical-align: top;\n",
       "    }\n",
       "\n",
       "    .dataframe thead th {\n",
       "        text-align: right;\n",
       "    }\n",
       "</style>\n",
       "<table border=\"1\" class=\"dataframe\">\n",
       "  <thead>\n",
       "    <tr style=\"text-align: right;\">\n",
       "      <th></th>\n",
       "      <th>City_ID</th>\n",
       "      <th>City</th>\n",
       "      <th>Cloudiness</th>\n",
       "      <th>Country</th>\n",
       "      <th>Date</th>\n",
       "      <th>Humidity</th>\n",
       "      <th>Lat</th>\n",
       "      <th>Lng</th>\n",
       "      <th>Max Temp</th>\n",
       "      <th>Min Temp</th>\n",
       "      <th>Wind Speed</th>\n",
       "    </tr>\n",
       "  </thead>\n",
       "  <tbody>\n",
       "    <tr>\n",
       "      <th>0</th>\n",
       "      <td>534313</td>\n",
       "      <td>Lomovka</td>\n",
       "      <td>100</td>\n",
       "      <td>RU</td>\n",
       "      <td>1.644555e+09</td>\n",
       "      <td>93</td>\n",
       "      <td>53.9194</td>\n",
       "      <td>58.3672</td>\n",
       "      <td>4.12</td>\n",
       "      <td>4.12</td>\n",
       "      <td>4.63</td>\n",
       "    </tr>\n",
       "    <tr>\n",
       "      <th>1</th>\n",
       "      <td>2108857</td>\n",
       "      <td>Gizo Government Station</td>\n",
       "      <td>74</td>\n",
       "      <td>SB</td>\n",
       "      <td>1.644555e+09</td>\n",
       "      <td>80</td>\n",
       "      <td>-8.1030</td>\n",
       "      <td>156.8419</td>\n",
       "      <td>80.91</td>\n",
       "      <td>80.91</td>\n",
       "      <td>7.83</td>\n",
       "    </tr>\n",
       "    <tr>\n",
       "      <th>2</th>\n",
       "      <td>2270385</td>\n",
       "      <td>Camacha</td>\n",
       "      <td>40</td>\n",
       "      <td>PT</td>\n",
       "      <td>1.644555e+09</td>\n",
       "      <td>94</td>\n",
       "      <td>33.0833</td>\n",
       "      <td>-16.3333</td>\n",
       "      <td>61.56</td>\n",
       "      <td>60.22</td>\n",
       "      <td>8.05</td>\n",
       "    </tr>\n",
       "    <tr>\n",
       "      <th>3</th>\n",
       "      <td>2460954</td>\n",
       "      <td>Araouane</td>\n",
       "      <td>26</td>\n",
       "      <td>ML</td>\n",
       "      <td>1.644555e+09</td>\n",
       "      <td>26</td>\n",
       "      <td>18.9048</td>\n",
       "      <td>-3.5265</td>\n",
       "      <td>58.26</td>\n",
       "      <td>58.26</td>\n",
       "      <td>14.20</td>\n",
       "    </tr>\n",
       "    <tr>\n",
       "      <th>4</th>\n",
       "      <td>964432</td>\n",
       "      <td>Port Alfred</td>\n",
       "      <td>3</td>\n",
       "      <td>ZA</td>\n",
       "      <td>1.644555e+09</td>\n",
       "      <td>82</td>\n",
       "      <td>-33.5906</td>\n",
       "      <td>26.8910</td>\n",
       "      <td>68.85</td>\n",
       "      <td>68.85</td>\n",
       "      <td>4.59</td>\n",
       "    </tr>\n",
       "    <tr>\n",
       "      <th>...</th>\n",
       "      <td>...</td>\n",
       "      <td>...</td>\n",
       "      <td>...</td>\n",
       "      <td>...</td>\n",
       "      <td>...</td>\n",
       "      <td>...</td>\n",
       "      <td>...</td>\n",
       "      <td>...</td>\n",
       "      <td>...</td>\n",
       "      <td>...</td>\n",
       "      <td>...</td>\n",
       "    </tr>\n",
       "    <tr>\n",
       "      <th>588</th>\n",
       "      <td>2511150</td>\n",
       "      <td>Santa Lucía</td>\n",
       "      <td>0</td>\n",
       "      <td>ES</td>\n",
       "      <td>1.644555e+09</td>\n",
       "      <td>45</td>\n",
       "      <td>27.9117</td>\n",
       "      <td>-15.5407</td>\n",
       "      <td>61.77</td>\n",
       "      <td>57.94</td>\n",
       "      <td>4.61</td>\n",
       "    </tr>\n",
       "    <tr>\n",
       "      <th>589</th>\n",
       "      <td>3356832</td>\n",
       "      <td>Henties Bay</td>\n",
       "      <td>83</td>\n",
       "      <td>NA</td>\n",
       "      <td>1.644555e+09</td>\n",
       "      <td>89</td>\n",
       "      <td>-22.1160</td>\n",
       "      <td>14.2845</td>\n",
       "      <td>71.85</td>\n",
       "      <td>71.85</td>\n",
       "      <td>8.28</td>\n",
       "    </tr>\n",
       "    <tr>\n",
       "      <th>590</th>\n",
       "      <td>3526934</td>\n",
       "      <td>Hueyapan</td>\n",
       "      <td>11</td>\n",
       "      <td>MX</td>\n",
       "      <td>1.644555e+09</td>\n",
       "      <td>50</td>\n",
       "      <td>18.8667</td>\n",
       "      <td>-98.6667</td>\n",
       "      <td>56.08</td>\n",
       "      <td>56.08</td>\n",
       "      <td>2.06</td>\n",
       "    </tr>\n",
       "    <tr>\n",
       "      <th>591</th>\n",
       "      <td>2088122</td>\n",
       "      <td>Port Moresby</td>\n",
       "      <td>20</td>\n",
       "      <td>PG</td>\n",
       "      <td>1.644555e+09</td>\n",
       "      <td>55</td>\n",
       "      <td>-9.4431</td>\n",
       "      <td>147.1797</td>\n",
       "      <td>89.02</td>\n",
       "      <td>89.02</td>\n",
       "      <td>17.27</td>\n",
       "    </tr>\n",
       "    <tr>\n",
       "      <th>592</th>\n",
       "      <td>3939761</td>\n",
       "      <td>Hualmay</td>\n",
       "      <td>100</td>\n",
       "      <td>PE</td>\n",
       "      <td>1.644555e+09</td>\n",
       "      <td>81</td>\n",
       "      <td>-11.0964</td>\n",
       "      <td>-77.6139</td>\n",
       "      <td>70.27</td>\n",
       "      <td>70.27</td>\n",
       "      <td>5.66</td>\n",
       "    </tr>\n",
       "  </tbody>\n",
       "</table>\n",
       "<p>593 rows × 11 columns</p>\n",
       "</div>"
      ],
      "text/plain": [
       "     City_ID                     City  Cloudiness Country          Date  \\\n",
       "0     534313                  Lomovka         100      RU  1.644555e+09   \n",
       "1    2108857  Gizo Government Station          74      SB  1.644555e+09   \n",
       "2    2270385                  Camacha          40      PT  1.644555e+09   \n",
       "3    2460954                 Araouane          26      ML  1.644555e+09   \n",
       "4     964432              Port Alfred           3      ZA  1.644555e+09   \n",
       "..       ...                      ...         ...     ...           ...   \n",
       "588  2511150              Santa Lucía           0      ES  1.644555e+09   \n",
       "589  3356832              Henties Bay          83      NA  1.644555e+09   \n",
       "590  3526934                 Hueyapan          11      MX  1.644555e+09   \n",
       "591  2088122             Port Moresby          20      PG  1.644555e+09   \n",
       "592  3939761                  Hualmay         100      PE  1.644555e+09   \n",
       "\n",
       "     Humidity      Lat       Lng  Max Temp  Min Temp  Wind Speed  \n",
       "0          93  53.9194   58.3672      4.12      4.12        4.63  \n",
       "1          80  -8.1030  156.8419     80.91     80.91        7.83  \n",
       "2          94  33.0833  -16.3333     61.56     60.22        8.05  \n",
       "3          26  18.9048   -3.5265     58.26     58.26       14.20  \n",
       "4          82 -33.5906   26.8910     68.85     68.85        4.59  \n",
       "..        ...      ...       ...       ...       ...         ...  \n",
       "588        45  27.9117  -15.5407     61.77     57.94        4.61  \n",
       "589        89 -22.1160   14.2845     71.85     71.85        8.28  \n",
       "590        50  18.8667  -98.6667     56.08     56.08        2.06  \n",
       "591        55  -9.4431  147.1797     89.02     89.02       17.27  \n",
       "592        81 -11.0964  -77.6139     70.27     70.27        5.66  \n",
       "\n",
       "[593 rows x 11 columns]"
      ]
     },
     "execution_count": 24,
     "metadata": {},
     "output_type": "execute_result"
    }
   ],
   "source": [
    "weather_df=pd.DataFrame({'City_ID':City_ID, 'City':City, 'Cloudiness':Cloudiness, 'Country':Country, 'Date':Date, 'Humidity':Humidity, 'Lat':Lat,\n",
    "       'Lng':Lng, 'Max Temp':Max_Temp, 'Min Temp':Min_Temp, 'Wind Speed':Wind_Speed})\n",
    "weather_df"
   ]
  },
  {
   "cell_type": "markdown",
   "metadata": {},
   "source": [
    "### Convert Raw Data to DataFrame\n",
    "* Export the city data into a .csv.\n",
    "* Display the DataFrame"
   ]
  },
  {
   "cell_type": "code",
   "execution_count": 25,
   "metadata": {},
   "outputs": [],
   "source": [
    "\n",
    "\n",
    "weather_df.to_csv('../output_data/city_data.csv')"
   ]
  },
  {
   "cell_type": "code",
   "execution_count": 49,
   "metadata": {},
   "outputs": [
    {
     "data": {
      "text/plain": [
       "{'cod': '404', 'message': 'city not found'}"
      ]
     },
     "execution_count": 49,
     "metadata": {},
     "output_type": "execute_result"
    }
   ],
   "source": [
    "weather_json"
   ]
  },
  {
   "cell_type": "markdown",
   "metadata": {},
   "source": [
    "## Inspect the data and remove the cities where the humidity > 100%.\n",
    "----\n",
    "Skip this step if there are no cities that have humidity > 100%. "
   ]
  },
  {
   "cell_type": "code",
   "execution_count": null,
   "metadata": {},
   "outputs": [],
   "source": [
    "#no such cities were found "
   ]
  },
  {
   "cell_type": "markdown",
   "metadata": {},
   "source": [
    "## Plotting the Data\n",
    "* Use proper labeling of the plots using plot titles (including date of analysis) and axes labels.\n",
    "* Save the plotted figures as .pngs."
   ]
  },
  {
   "cell_type": "markdown",
   "metadata": {},
   "source": [
    "## Latitude vs. Temperature Plot"
   ]
  },
  {
   "cell_type": "code",
   "execution_count": 110,
   "metadata": {
    "scrolled": true
   },
   "outputs": [
    {
     "data": {
      "image/png": "[encoded data removed]",
      "text/plain": [
       "<Figure size 432x288 with 1 Axes>"
      ]
     },
     "metadata": {
      "needs_background": "light"
     },
     "output_type": "display_data"
    }
   ],
   "source": [
    "plt.scatter(weather_df['Lat'],weather_df['Max Temp'])\n",
    "\n",
    "plt.title('Latitude vs Temp Plot(2/10/22)')\n",
    "plt.ylabel('Max Temp')\n",
    "plt.xlabel('Latitude')\n",
    "plt.savefig('../output_data/fig1.png')"
   ]
  },
  {
   "cell_type": "markdown",
   "metadata": {},
   "source": [
    "## Latitude vs. Humidity Plot"
   ]
  },
  {
   "cell_type": "code",
   "execution_count": 111,
   "metadata": {},
   "outputs": [
    {
     "data": {
      "image/png": "[encoded data removed]",
      "text/plain": [
       "<Figure size 432x288 with 1 Axes>"
      ]
     },
     "metadata": {
      "needs_background": "light"
     },
     "output_type": "display_data"
    }
   ],
   "source": [
    "plt.scatter(weather_df['Lat'],weather_df['Humidity'])\n",
    "\n",
    "plt.title('Latitude vs Humidity Plot(2/10/22)')\n",
    "plt.ylabel('Humidity(%)')\n",
    "plt.xlabel('Latitude')\n",
    "plt.savefig('../output_data/fig2.png')"
   ]
  },
  {
   "cell_type": "markdown",
   "metadata": {},
   "source": [
    "## Latitude vs. Cloudiness Plot"
   ]
  },
  {
   "cell_type": "code",
   "execution_count": 112,
   "metadata": {},
   "outputs": [
    {
     "data": {
      "image/png": "[encoded data removed]",
      "text/plain": [
       "<Figure size 432x288 with 1 Axes>"
      ]
     },
     "metadata": {
      "needs_background": "light"
     },
     "output_type": "display_data"
    }
   ],
   "source": [
    "plt.scatter(weather_df['Lat'],weather_df['Cloudiness'])\n",
    "\n",
    "plt.title('Latitude vs Cloudiness Plot(2/10/22)')\n",
    "plt.ylabel('Cloudiness(%)')\n",
    "plt.xlabel('Latitude')\n",
    "plt.savefig('../output_data/fig3.png')"
   ]
  },
  {
   "cell_type": "markdown",
   "metadata": {},
   "source": [
    "## Latitude vs. Wind Speed Plot"
   ]
  },
  {
   "cell_type": "code",
   "execution_count": 113,
   "metadata": {},
   "outputs": [
    {
     "data": {
      "image/png": "[encoded data removed]",
      "text/plain": [
       "<Figure size 432x288 with 1 Axes>"
      ]
     },
     "metadata": {
      "needs_background": "light"
     },
     "output_type": "display_data"
    }
   ],
   "source": [
    "plt.scatter(weather_df['Lat'],weather_df['Wind Speed'])\n",
    "\n",
    "plt.title('Latitude vs Wind Speed Plot(2/10/22)')\n",
    "plt.ylabel('Cloudiness(%)')\n",
    "plt.xlabel('Latitude')\n",
    "plt.savefig('../output_data/fig4.png')"
   ]
  },
  {
   "cell_type": "code",
   "execution_count": 114,
   "metadata": {},
   "outputs": [
    {
     "data": {
      "text/html": [
       "<div>\n",
       "<style scoped>\n",
       "    .dataframe tbody tr th:only-of-type {\n",
       "        vertical-align: middle;\n",
       "    }\n",
       "\n",
       "    .dataframe tbody tr th {\n",
       "        vertical-align: top;\n",
       "    }\n",
       "\n",
       "    .dataframe thead th {\n",
       "        text-align: right;\n",
       "    }\n",
       "</style>\n",
       "<table border=\"1\" class=\"dataframe\">\n",
       "  <thead>\n",
       "    <tr style=\"text-align: right;\">\n",
       "      <th></th>\n",
       "      <th>City_ID</th>\n",
       "      <th>City</th>\n",
       "      <th>Cloudiness</th>\n",
       "      <th>Country</th>\n",
       "      <th>Date</th>\n",
       "      <th>Humidity</th>\n",
       "      <th>Lat</th>\n",
       "      <th>Lng</th>\n",
       "      <th>Max Temp</th>\n",
       "      <th>Min Temp</th>\n",
       "      <th>Wind Speed</th>\n",
       "    </tr>\n",
       "  </thead>\n",
       "  <tbody>\n",
       "    <tr>\n",
       "      <th>1</th>\n",
       "      <td>2108857</td>\n",
       "      <td>Gizo Government Station</td>\n",
       "      <td>74</td>\n",
       "      <td>SB</td>\n",
       "      <td>1.644555e+09</td>\n",
       "      <td>80</td>\n",
       "      <td>-8.1030</td>\n",
       "      <td>156.8419</td>\n",
       "      <td>80.91</td>\n",
       "      <td>80.91</td>\n",
       "      <td>7.83</td>\n",
       "    </tr>\n",
       "    <tr>\n",
       "      <th>4</th>\n",
       "      <td>964432</td>\n",
       "      <td>Port Alfred</td>\n",
       "      <td>3</td>\n",
       "      <td>ZA</td>\n",
       "      <td>1.644555e+09</td>\n",
       "      <td>82</td>\n",
       "      <td>-33.5906</td>\n",
       "      <td>26.8910</td>\n",
       "      <td>68.85</td>\n",
       "      <td>68.85</td>\n",
       "      <td>4.59</td>\n",
       "    </tr>\n",
       "    <tr>\n",
       "      <th>6</th>\n",
       "      <td>933995</td>\n",
       "      <td>Souillac</td>\n",
       "      <td>40</td>\n",
       "      <td>MU</td>\n",
       "      <td>1.644555e+09</td>\n",
       "      <td>78</td>\n",
       "      <td>-20.5167</td>\n",
       "      <td>57.5167</td>\n",
       "      <td>83.35</td>\n",
       "      <td>80.98</td>\n",
       "      <td>3.44</td>\n",
       "    </tr>\n",
       "    <tr>\n",
       "      <th>9</th>\n",
       "      <td>3393692</td>\n",
       "      <td>Itarema</td>\n",
       "      <td>80</td>\n",
       "      <td>BR</td>\n",
       "      <td>1.644555e+09</td>\n",
       "      <td>83</td>\n",
       "      <td>-2.9248</td>\n",
       "      <td>-39.9167</td>\n",
       "      <td>76.41</td>\n",
       "      <td>76.41</td>\n",
       "      <td>6.42</td>\n",
       "    </tr>\n",
       "    <tr>\n",
       "      <th>12</th>\n",
       "      <td>4035715</td>\n",
       "      <td>Avarua</td>\n",
       "      <td>12</td>\n",
       "      <td>CK</td>\n",
       "      <td>1.644555e+09</td>\n",
       "      <td>69</td>\n",
       "      <td>-21.2078</td>\n",
       "      <td>-159.7750</td>\n",
       "      <td>82.45</td>\n",
       "      <td>82.45</td>\n",
       "      <td>8.05</td>\n",
       "    </tr>\n",
       "    <tr>\n",
       "      <th>...</th>\n",
       "      <td>...</td>\n",
       "      <td>...</td>\n",
       "      <td>...</td>\n",
       "      <td>...</td>\n",
       "      <td>...</td>\n",
       "      <td>...</td>\n",
       "      <td>...</td>\n",
       "      <td>...</td>\n",
       "      <td>...</td>\n",
       "      <td>...</td>\n",
       "      <td>...</td>\n",
       "    </tr>\n",
       "    <tr>\n",
       "      <th>579</th>\n",
       "      <td>2139521</td>\n",
       "      <td>Noumea</td>\n",
       "      <td>100</td>\n",
       "      <td>NC</td>\n",
       "      <td>1.644555e+09</td>\n",
       "      <td>99</td>\n",
       "      <td>-22.2763</td>\n",
       "      <td>166.4572</td>\n",
       "      <td>84.99</td>\n",
       "      <td>82.38</td>\n",
       "      <td>20.33</td>\n",
       "    </tr>\n",
       "    <tr>\n",
       "      <th>585</th>\n",
       "      <td>3887127</td>\n",
       "      <td>Iquique</td>\n",
       "      <td>6</td>\n",
       "      <td>CL</td>\n",
       "      <td>1.644555e+09</td>\n",
       "      <td>68</td>\n",
       "      <td>-20.2208</td>\n",
       "      <td>-70.1431</td>\n",
       "      <td>68.04</td>\n",
       "      <td>68.04</td>\n",
       "      <td>3.62</td>\n",
       "    </tr>\n",
       "    <tr>\n",
       "      <th>589</th>\n",
       "      <td>3356832</td>\n",
       "      <td>Henties Bay</td>\n",
       "      <td>83</td>\n",
       "      <td>NA</td>\n",
       "      <td>1.644555e+09</td>\n",
       "      <td>89</td>\n",
       "      <td>-22.1160</td>\n",
       "      <td>14.2845</td>\n",
       "      <td>71.85</td>\n",
       "      <td>71.85</td>\n",
       "      <td>8.28</td>\n",
       "    </tr>\n",
       "    <tr>\n",
       "      <th>591</th>\n",
       "      <td>2088122</td>\n",
       "      <td>Port Moresby</td>\n",
       "      <td>20</td>\n",
       "      <td>PG</td>\n",
       "      <td>1.644555e+09</td>\n",
       "      <td>55</td>\n",
       "      <td>-9.4431</td>\n",
       "      <td>147.1797</td>\n",
       "      <td>89.02</td>\n",
       "      <td>89.02</td>\n",
       "      <td>17.27</td>\n",
       "    </tr>\n",
       "    <tr>\n",
       "      <th>592</th>\n",
       "      <td>3939761</td>\n",
       "      <td>Hualmay</td>\n",
       "      <td>100</td>\n",
       "      <td>PE</td>\n",
       "      <td>1.644555e+09</td>\n",
       "      <td>81</td>\n",
       "      <td>-11.0964</td>\n",
       "      <td>-77.6139</td>\n",
       "      <td>70.27</td>\n",
       "      <td>70.27</td>\n",
       "      <td>5.66</td>\n",
       "    </tr>\n",
       "  </tbody>\n",
       "</table>\n",
       "<p>192 rows × 11 columns</p>\n",
       "</div>"
      ],
      "text/plain": [
       "     City_ID                     City  Cloudiness Country          Date  \\\n",
       "1    2108857  Gizo Government Station          74      SB  1.644555e+09   \n",
       "4     964432              Port Alfred           3      ZA  1.644555e+09   \n",
       "6     933995                 Souillac          40      MU  1.644555e+09   \n",
       "9    3393692                  Itarema          80      BR  1.644555e+09   \n",
       "12   4035715                   Avarua          12      CK  1.644555e+09   \n",
       "..       ...                      ...         ...     ...           ...   \n",
       "579  2139521                   Noumea         100      NC  1.644555e+09   \n",
       "585  3887127                  Iquique           6      CL  1.644555e+09   \n",
       "589  3356832              Henties Bay          83      NA  1.644555e+09   \n",
       "591  2088122             Port Moresby          20      PG  1.644555e+09   \n",
       "592  3939761                  Hualmay         100      PE  1.644555e+09   \n",
       "\n",
       "     Humidity      Lat       Lng  Max Temp  Min Temp  Wind Speed  \n",
       "1          80  -8.1030  156.8419     80.91     80.91        7.83  \n",
       "4          82 -33.5906   26.8910     68.85     68.85        4.59  \n",
       "6          78 -20.5167   57.5167     83.35     80.98        3.44  \n",
       "9          83  -2.9248  -39.9167     76.41     76.41        6.42  \n",
       "12         69 -21.2078 -159.7750     82.45     82.45        8.05  \n",
       "..        ...      ...       ...       ...       ...         ...  \n",
       "579        99 -22.2763  166.4572     84.99     82.38       20.33  \n",
       "585        68 -20.2208  -70.1431     68.04     68.04        3.62  \n",
       "589        89 -22.1160   14.2845     71.85     71.85        8.28  \n",
       "591        55  -9.4431  147.1797     89.02     89.02       17.27  \n",
       "592        81 -11.0964  -77.6139     70.27     70.27        5.66  \n",
       "\n",
       "[192 rows x 11 columns]"
      ]
     },
     "execution_count": 114,
     "metadata": {},
     "output_type": "execute_result"
    }
   ],
   "source": [
    "southern_df=weather_df[weather_df['Lat']<0]\n",
    "southern_df"
   ]
  },
  {
   "cell_type": "code",
   "execution_count": 115,
   "metadata": {},
   "outputs": [
    {
     "data": {
      "text/html": [
       "<div>\n",
       "<style scoped>\n",
       "    .dataframe tbody tr th:only-of-type {\n",
       "        vertical-align: middle;\n",
       "    }\n",
       "\n",
       "    .dataframe tbody tr th {\n",
       "        vertical-align: top;\n",
       "    }\n",
       "\n",
       "    .dataframe thead th {\n",
       "        text-align: right;\n",
       "    }\n",
       "</style>\n",
       "<table border=\"1\" class=\"dataframe\">\n",
       "  <thead>\n",
       "    <tr style=\"text-align: right;\">\n",
       "      <th></th>\n",
       "      <th>City_ID</th>\n",
       "      <th>City</th>\n",
       "      <th>Cloudiness</th>\n",
       "      <th>Country</th>\n",
       "      <th>Date</th>\n",
       "      <th>Humidity</th>\n",
       "      <th>Lat</th>\n",
       "      <th>Lng</th>\n",
       "      <th>Max Temp</th>\n",
       "      <th>Min Temp</th>\n",
       "      <th>Wind Speed</th>\n",
       "    </tr>\n",
       "  </thead>\n",
       "  <tbody>\n",
       "    <tr>\n",
       "      <th>0</th>\n",
       "      <td>534313</td>\n",
       "      <td>Lomovka</td>\n",
       "      <td>100</td>\n",
       "      <td>RU</td>\n",
       "      <td>1.644555e+09</td>\n",
       "      <td>93</td>\n",
       "      <td>53.9194</td>\n",
       "      <td>58.3672</td>\n",
       "      <td>4.12</td>\n",
       "      <td>4.12</td>\n",
       "      <td>4.63</td>\n",
       "    </tr>\n",
       "    <tr>\n",
       "      <th>2</th>\n",
       "      <td>2270385</td>\n",
       "      <td>Camacha</td>\n",
       "      <td>40</td>\n",
       "      <td>PT</td>\n",
       "      <td>1.644555e+09</td>\n",
       "      <td>94</td>\n",
       "      <td>33.0833</td>\n",
       "      <td>-16.3333</td>\n",
       "      <td>61.56</td>\n",
       "      <td>60.22</td>\n",
       "      <td>8.05</td>\n",
       "    </tr>\n",
       "    <tr>\n",
       "      <th>3</th>\n",
       "      <td>2460954</td>\n",
       "      <td>Araouane</td>\n",
       "      <td>26</td>\n",
       "      <td>ML</td>\n",
       "      <td>1.644555e+09</td>\n",
       "      <td>26</td>\n",
       "      <td>18.9048</td>\n",
       "      <td>-3.5265</td>\n",
       "      <td>58.26</td>\n",
       "      <td>58.26</td>\n",
       "      <td>14.20</td>\n",
       "    </tr>\n",
       "    <tr>\n",
       "      <th>5</th>\n",
       "      <td>3985710</td>\n",
       "      <td>Cabo San Lucas</td>\n",
       "      <td>95</td>\n",
       "      <td>MX</td>\n",
       "      <td>1.644555e+09</td>\n",
       "      <td>71</td>\n",
       "      <td>22.8909</td>\n",
       "      <td>-109.9124</td>\n",
       "      <td>68.50</td>\n",
       "      <td>55.51</td>\n",
       "      <td>4.70</td>\n",
       "    </tr>\n",
       "    <tr>\n",
       "      <th>7</th>\n",
       "      <td>1507390</td>\n",
       "      <td>Dikson</td>\n",
       "      <td>100</td>\n",
       "      <td>RU</td>\n",
       "      <td>1.644555e+09</td>\n",
       "      <td>93</td>\n",
       "      <td>73.5069</td>\n",
       "      <td>80.5464</td>\n",
       "      <td>5.76</td>\n",
       "      <td>5.76</td>\n",
       "      <td>26.19</td>\n",
       "    </tr>\n",
       "    <tr>\n",
       "      <th>...</th>\n",
       "      <td>...</td>\n",
       "      <td>...</td>\n",
       "      <td>...</td>\n",
       "      <td>...</td>\n",
       "      <td>...</td>\n",
       "      <td>...</td>\n",
       "      <td>...</td>\n",
       "      <td>...</td>\n",
       "      <td>...</td>\n",
       "      <td>...</td>\n",
       "      <td>...</td>\n",
       "    </tr>\n",
       "    <tr>\n",
       "      <th>584</th>\n",
       "      <td>1160939</td>\n",
       "      <td>Iranshahr</td>\n",
       "      <td>0</td>\n",
       "      <td>IR</td>\n",
       "      <td>1.644555e+09</td>\n",
       "      <td>26</td>\n",
       "      <td>27.2025</td>\n",
       "      <td>60.6848</td>\n",
       "      <td>57.54</td>\n",
       "      <td>57.54</td>\n",
       "      <td>4.61</td>\n",
       "    </tr>\n",
       "    <tr>\n",
       "      <th>586</th>\n",
       "      <td>3674676</td>\n",
       "      <td>Mitú</td>\n",
       "      <td>94</td>\n",
       "      <td>CO</td>\n",
       "      <td>1.644555e+09</td>\n",
       "      <td>87</td>\n",
       "      <td>1.1983</td>\n",
       "      <td>-70.1733</td>\n",
       "      <td>74.17</td>\n",
       "      <td>74.17</td>\n",
       "      <td>2.33</td>\n",
       "    </tr>\n",
       "    <tr>\n",
       "      <th>587</th>\n",
       "      <td>1177042</td>\n",
       "      <td>Hasilpur</td>\n",
       "      <td>0</td>\n",
       "      <td>PK</td>\n",
       "      <td>1.644555e+09</td>\n",
       "      <td>24</td>\n",
       "      <td>29.7122</td>\n",
       "      <td>72.5553</td>\n",
       "      <td>66.18</td>\n",
       "      <td>66.18</td>\n",
       "      <td>2.98</td>\n",
       "    </tr>\n",
       "    <tr>\n",
       "      <th>588</th>\n",
       "      <td>2511150</td>\n",
       "      <td>Santa Lucía</td>\n",
       "      <td>0</td>\n",
       "      <td>ES</td>\n",
       "      <td>1.644555e+09</td>\n",
       "      <td>45</td>\n",
       "      <td>27.9117</td>\n",
       "      <td>-15.5407</td>\n",
       "      <td>61.77</td>\n",
       "      <td>57.94</td>\n",
       "      <td>4.61</td>\n",
       "    </tr>\n",
       "    <tr>\n",
       "      <th>590</th>\n",
       "      <td>3526934</td>\n",
       "      <td>Hueyapan</td>\n",
       "      <td>11</td>\n",
       "      <td>MX</td>\n",
       "      <td>1.644555e+09</td>\n",
       "      <td>50</td>\n",
       "      <td>18.8667</td>\n",
       "      <td>-98.6667</td>\n",
       "      <td>56.08</td>\n",
       "      <td>56.08</td>\n",
       "      <td>2.06</td>\n",
       "    </tr>\n",
       "  </tbody>\n",
       "</table>\n",
       "<p>401 rows × 11 columns</p>\n",
       "</div>"
      ],
      "text/plain": [
       "     City_ID            City  Cloudiness Country          Date  Humidity  \\\n",
       "0     534313         Lomovka         100      RU  1.644555e+09        93   \n",
       "2    2270385         Camacha          40      PT  1.644555e+09        94   \n",
       "3    2460954        Araouane          26      ML  1.644555e+09        26   \n",
       "5    3985710  Cabo San Lucas          95      MX  1.644555e+09        71   \n",
       "7    1507390          Dikson         100      RU  1.644555e+09        93   \n",
       "..       ...             ...         ...     ...           ...       ...   \n",
       "584  1160939       Iranshahr           0      IR  1.644555e+09        26   \n",
       "586  3674676            Mitú          94      CO  1.644555e+09        87   \n",
       "587  1177042        Hasilpur           0      PK  1.644555e+09        24   \n",
       "588  2511150     Santa Lucía           0      ES  1.644555e+09        45   \n",
       "590  3526934        Hueyapan          11      MX  1.644555e+09        50   \n",
       "\n",
       "         Lat       Lng  Max Temp  Min Temp  Wind Speed  \n",
       "0    53.9194   58.3672      4.12      4.12        4.63  \n",
       "2    33.0833  -16.3333     61.56     60.22        8.05  \n",
       "3    18.9048   -3.5265     58.26     58.26       14.20  \n",
       "5    22.8909 -109.9124     68.50     55.51        4.70  \n",
       "7    73.5069   80.5464      5.76      5.76       26.19  \n",
       "..       ...       ...       ...       ...         ...  \n",
       "584  27.2025   60.6848     57.54     57.54        4.61  \n",
       "586   1.1983  -70.1733     74.17     74.17        2.33  \n",
       "587  29.7122   72.5553     66.18     66.18        2.98  \n",
       "588  27.9117  -15.5407     61.77     57.94        4.61  \n",
       "590  18.8667  -98.6667     56.08     56.08        2.06  \n",
       "\n",
       "[401 rows x 11 columns]"
      ]
     },
     "execution_count": 115,
     "metadata": {},
     "output_type": "execute_result"
    }
   ],
   "source": [
    "northern_df=weather_df[weather_df['Lat']>0]\n",
    "northern_df"
   ]
  },
  {
   "cell_type": "markdown",
   "metadata": {},
   "source": [
    "## Linear Regression"
   ]
  },
  {
   "cell_type": "code",
   "execution_count": 116,
   "metadata": {},
   "outputs": [
    {
     "data": {
      "text/plain": [
       "LinregressResult(slope=-1.2613471582265412, intercept=90.02452391926269, rvalue=-0.8723285899922221, pvalue=4.63520251194351e-126, stderr=0.03539206807751735, intercept_stderr=1.5285462126096168)"
      ]
     },
     "execution_count": 116,
     "metadata": {},
     "output_type": "execute_result"
    }
   ],
   "source": [
    "\n",
    "slope, intercept, rvalue, pvalue, stderr = linregress(northern_df['Lat'],northern_df['Max Temp'])\n",
    "linregress(northern_df['Lat'],northern_df['Max Temp'])"
   ]
  },
  {
   "cell_type": "markdown",
   "metadata": {},
   "source": [
    "####  Northern Hemisphere - Max Temp vs. Latitude Linear Regression"
   ]
  },
  {
   "cell_type": "code",
   "execution_count": 117,
   "metadata": {},
   "outputs": [
    {
     "name": "stdout",
     "output_type": "stream",
     "text": [
      "R value: -0.8723285899922221\n"
     ]
    },
    {
     "data": {
      "image/png": "[encoded data removed]",
      "text/plain": [
       "<Figure size 432x288 with 1 Axes>"
      ]
     },
     "metadata": {
      "needs_background": "light"
     },
     "output_type": "display_data"
    }
   ],
   "source": [
    "\n",
    "plt.scatter(northern_df['Lat'],northern_df['Max Temp'])\n",
    "\n",
    "plt.title('Latitude vs Temp Plot(Northern Hemisphere)(2/10/22)')\n",
    "plt.ylabel('Max Temp')\n",
    "plt.xlabel('Latitude')\n",
    "plt.plot(northern_df['Lat'],slope*northern_df['Lat']+intercept)\n",
    "\n",
    "print('R value:',rvalue)\n",
    "plt.savefig('../output_data/fig5.png')"
   ]
  },
  {
   "cell_type": "markdown",
   "metadata": {},
   "source": [
    "####  Southern Hemisphere - Max Temp vs. Latitude Linear Regression"
   ]
  },
  {
   "cell_type": "code",
   "execution_count": 118,
   "metadata": {},
   "outputs": [
    {
     "data": {
      "text/plain": [
       "LinregressResult(slope=0.3106130739396467, intercept=80.7450067272263, rvalue=0.379477310825125, pvalue=5.6901321836427057e-08, stderr=0.05494057882978192, intercept_stderr=1.3758079188203196)"
      ]
     },
     "execution_count": 118,
     "metadata": {},
     "output_type": "execute_result"
    }
   ],
   "source": [
    "\n",
    "slope, intercept, rvalue, pvalue, stderr = linregress(southern_df['Lat'],southern_df['Max Temp'])\n",
    "linregress(southern_df['Lat'],southern_df['Max Temp'])"
   ]
  },
  {
   "cell_type": "code",
   "execution_count": 119,
   "metadata": {},
   "outputs": [
    {
     "name": "stdout",
     "output_type": "stream",
     "text": [
      "R value: 0.379477310825125\n"
     ]
    },
    {
     "data": {
      "image/png": "[encoded data removed]",
      "text/plain": [
       "<Figure size 432x288 with 1 Axes>"
      ]
     },
     "metadata": {
      "needs_background": "light"
     },
     "output_type": "display_data"
    }
   ],
   "source": [
    "plt.scatter(southern_df['Lat'],southern_df['Max Temp'])\n",
    "\n",
    "plt.title('Latitude vs Temp Plot(Southern Hemisphere)(2/10/22)')\n",
    "plt.ylabel('Max Temp')\n",
    "plt.xlabel('Latitude')\n",
    "plt.plot(southern_df['Lat'],slope*southern_df['Lat']+intercept)\n",
    "\n",
    "print('R value:',rvalue)\n",
    "plt.savefig('../output_data/fig6.png')"
   ]
  },
  {
   "cell_type": "markdown",
   "metadata": {},
   "source": [
    "####  Northern Hemisphere - Humidity (%) vs. Latitude Linear Regression"
   ]
  },
  {
   "cell_type": "code",
   "execution_count": 120,
   "metadata": {},
   "outputs": [
    {
     "data": {
      "text/plain": [
       "LinregressResult(slope=0.4318509170853921, intercept=54.41764078863524, rvalue=0.3970405818468643, pvalue=1.3596029689957572e-16, stderr=0.04997594928948552, intercept_stderr=2.158408710129604)"
      ]
     },
     "execution_count": 120,
     "metadata": {},
     "output_type": "execute_result"
    }
   ],
   "source": [
    "slope, intercept, rvalue, pvalue, stderr = linregress(northern_df['Lat'],northern_df['Humidity'])\n",
    "linregress(northern_df['Lat'],northern_df['Humidity'])\n"
   ]
  },
  {
   "cell_type": "code",
   "execution_count": 121,
   "metadata": {},
   "outputs": [
    {
     "name": "stdout",
     "output_type": "stream",
     "text": [
      "R value: 0.3970405818468643\n"
     ]
    },
    {
     "data": {
      "image/png": "[encoded data removed]",
      "text/plain": [
       "<Figure size 432x288 with 1 Axes>"
      ]
     },
     "metadata": {
      "needs_background": "light"
     },
     "output_type": "display_data"
    }
   ],
   "source": [
    "\n",
    "plt.scatter(northern_df['Lat'],northern_df['Humidity'])\n",
    "\n",
    "plt.title('Latitude vs Humidity(Northern Hemisphere)(2/10/22)')\n",
    "plt.ylabel('Humidity')\n",
    "plt.xlabel('Latitude')\n",
    "plt.plot(northern_df['Lat'],slope*northern_df['Lat']+intercept)\n",
    "\n",
    "print('R value:',rvalue)\n",
    "plt.savefig('../output_data/fig7.png')"
   ]
  },
  {
   "cell_type": "markdown",
   "metadata": {},
   "source": [
    "####  Southern Hemisphere - Humidity (%) vs. Latitude Linear Regression"
   ]
  },
  {
   "cell_type": "code",
   "execution_count": 122,
   "metadata": {},
   "outputs": [
    {
     "data": {
      "text/plain": [
       "LinregressResult(slope=0.5421670028091309, intercept=84.88601024952919, rvalue=0.3818233526201651, pvalue=4.6391567498479585e-08, stderr=0.09520863887187235, intercept_stderr=2.3841903760398737)"
      ]
     },
     "execution_count": 122,
     "metadata": {},
     "output_type": "execute_result"
    }
   ],
   "source": [
    "slope, intercept, rvalue, pvalue, stderr = linregress(southern_df['Lat'],southern_df['Humidity'])\n",
    "linregress(southern_df['Lat'],southern_df['Humidity'])\n",
    "\n"
   ]
  },
  {
   "cell_type": "code",
   "execution_count": 123,
   "metadata": {},
   "outputs": [
    {
     "name": "stdout",
     "output_type": "stream",
     "text": [
      "R value: 0.3818233526201651\n"
     ]
    },
    {
     "data": {
      "image/png": "[encoded data removed]",
      "text/plain": [
       "<Figure size 432x288 with 1 Axes>"
      ]
     },
     "metadata": {
      "needs_background": "light"
     },
     "output_type": "display_data"
    }
   ],
   "source": [
    "plt.scatter(southern_df['Lat'],southern_df['Humidity'])\n",
    "\n",
    "plt.title('Latitude vs Humidity(Southern Hemisphere)(2/10/22)')\n",
    "plt.ylabel('Humidity')\n",
    "plt.xlabel('Latitude')\n",
    "plt.plot(southern_df['Lat'],slope*southern_df['Lat']+intercept)\n",
    "\n",
    "print('R value:',rvalue)\n",
    "plt.savefig('../output_data/fig8.png')"
   ]
  },
  {
   "cell_type": "markdown",
   "metadata": {},
   "source": [
    "####  Northern Hemisphere - Cloudiness (%) vs. Latitude Linear Regression"
   ]
  },
  {
   "cell_type": "code",
   "execution_count": 124,
   "metadata": {},
   "outputs": [
    {
     "data": {
      "text/plain": [
       "LinregressResult(slope=0.6159997837564791, intercept=30.849485899343875, rvalue=0.30484313756841497, pvalue=4.5343132866999747e-10, stderr=0.0963470116900444, intercept_stderr=4.161126145341729)"
      ]
     },
     "execution_count": 124,
     "metadata": {},
     "output_type": "execute_result"
    }
   ],
   "source": [
    "slope, intercept, rvalue, pvalue, stderr = linregress(northern_df['Lat'],northern_df['Cloudiness'])\n",
    "linregress(northern_df['Lat'],northern_df['Cloudiness'])"
   ]
  },
  {
   "cell_type": "code",
   "execution_count": 125,
   "metadata": {},
   "outputs": [
    {
     "name": "stdout",
     "output_type": "stream",
     "text": [
      "R value: 0.30484313756841497\n"
     ]
    },
    {
     "data": {
      "image/png": "[encoded data removed]",
      "text/plain": [
       "<Figure size 432x288 with 1 Axes>"
      ]
     },
     "metadata": {
      "needs_background": "light"
     },
     "output_type": "display_data"
    }
   ],
   "source": [
    "\n",
    "plt.scatter(northern_df['Lat'],northern_df['Cloudiness'])\n",
    "\n",
    "plt.title('Latitude vs Cloudiness(Northern Hemisphere)(2/10/22)')\n",
    "plt.ylabel('Cloudiness')\n",
    "plt.xlabel('Latitude')\n",
    "plt.plot(northern_df['Lat'],slope*northern_df['Lat']+intercept)\n",
    "\n",
    "print('R value:',rvalue)\n",
    "plt.savefig('../output_data/fig9.png')"
   ]
  },
  {
   "cell_type": "markdown",
   "metadata": {},
   "source": [
    "####  Southern Hemisphere - Cloudiness (%) vs. Latitude Linear Regression"
   ]
  },
  {
   "cell_type": "code",
   "execution_count": 126,
   "metadata": {},
   "outputs": [
    {
     "data": {
      "text/plain": [
       "LinregressResult(slope=1.3643900013929953, intercept=82.82201927579338, rvalue=0.46042222904672403, pvalue=1.8255010276072633e-11, stderr=0.19084100140466864, intercept_stderr=4.778991531589313)"
      ]
     },
     "execution_count": 126,
     "metadata": {},
     "output_type": "execute_result"
    }
   ],
   "source": [
    "slope, intercept, rvalue, pvalue, stderr = linregress(southern_df['Lat'],southern_df['Cloudiness'])\n",
    "linregress(southern_df['Lat'],southern_df['Cloudiness'])"
   ]
  },
  {
   "cell_type": "code",
   "execution_count": 127,
   "metadata": {},
   "outputs": [
    {
     "name": "stdout",
     "output_type": "stream",
     "text": [
      "R value: 0.46042222904672403\n"
     ]
    },
    {
     "data": {
      "image/png": "[encoded data removed]",
      "text/plain": [
       "<Figure size 432x288 with 1 Axes>"
      ]
     },
     "metadata": {
      "needs_background": "light"
     },
     "output_type": "display_data"
    }
   ],
   "source": [
    "\n",
    "plt.scatter(southern_df['Lat'],southern_df['Cloudiness'])\n",
    "\n",
    "plt.title('Latitude vs Cloudiness(southern Hemisphere)(2/10/22)')\n",
    "plt.ylabel('Cloudiness')\n",
    "plt.xlabel('Latitude')\n",
    "plt.plot(southern_df['Lat'],slope*southern_df['Lat']+intercept)\n",
    "\n",
    "print('R value:',rvalue)\n",
    "plt.savefig('../output_data/fig10.png')"
   ]
  },
  {
   "cell_type": "markdown",
   "metadata": {},
   "source": [
    "####  Northern Hemisphere - Wind Speed (mph) vs. Latitude Linear Regression"
   ]
  },
  {
   "cell_type": "code",
   "execution_count": 128,
   "metadata": {},
   "outputs": [
    {
     "data": {
      "text/plain": [
       "LinregressResult(slope=0.7172544287041221, intercept=32.87514283585598, rvalue=0.19098571662092756, pvalue=0.00011907388903955282, stderr=0.1845513698889651, intercept_stderr=1.6925653196246693)"
      ]
     },
     "execution_count": 128,
     "metadata": {},
     "output_type": "execute_result"
    }
   ],
   "source": [
    "slope, intercept, rvalue, pvalue, stderr = linregress(northern_df['Wind Speed'],northern_df['Lat'])\n",
    "linregress(northern_df['Wind Speed'],northern_df['Lat'])"
   ]
  },
  {
   "cell_type": "code",
   "execution_count": 129,
   "metadata": {},
   "outputs": [
    {
     "name": "stdout",
     "output_type": "stream",
     "text": [
      "R value: 0.19098571662092756\n"
     ]
    },
    {
     "data": {
      "image/png": "[encoded data removed]",
      "text/plain": [
       "<Figure size 432x288 with 1 Axes>"
      ]
     },
     "metadata": {
      "needs_background": "light"
     },
     "output_type": "display_data"
    }
   ],
   "source": [
    "plt.scatter(northern_df['Wind Speed'],northern_df['Lat'])\n",
    "\n",
    "plt.title('Wind Speed vs Latitude(Northern Hemisphere)(2/10/22)')\n",
    "plt.ylabel('Latitdude')\n",
    "plt.xlabel('Wind Speed')\n",
    "plt.plot(northern_df['Wind Speed'],slope*northern_df['Wind Speed']+intercept)\n",
    "\n",
    "print('R value:',rvalue)\n",
    "plt.savefig('../output_data/fig11.png')"
   ]
  },
  {
   "cell_type": "markdown",
   "metadata": {},
   "source": [
    "####  Southern Hemisphere - Wind Speed (mph) vs. Latitude Linear Regression"
   ]
  },
  {
   "cell_type": "code",
   "execution_count": 130,
   "metadata": {},
   "outputs": [
    {
     "data": {
      "text/plain": [
       "LinregressResult(slope=-0.7446677755932549, intercept=-15.430352709264806, rvalue=-0.3292137169196358, pvalue=3.122914409181344e-06, stderr=0.154952052025612, intercept_stderr=1.509535998901647)"
      ]
     },
     "execution_count": 130,
     "metadata": {},
     "output_type": "execute_result"
    }
   ],
   "source": [
    "slope, intercept, rvalue, pvalue, stderr = linregress(southern_df['Wind Speed'],southern_df['Lat'])\n",
    "linregress(southern_df['Wind Speed'],southern_df['Lat'])"
   ]
  },
  {
   "cell_type": "code",
   "execution_count": 131,
   "metadata": {},
   "outputs": [
    {
     "name": "stdout",
     "output_type": "stream",
     "text": [
      "R value: -0.3292137169196358\n"
     ]
    },
    {
     "data": {
      "image/png": "[encoded data removed]",
      "text/plain": [
       "<Figure size 432x288 with 1 Axes>"
      ]
     },
     "metadata": {
      "needs_background": "light"
     },
     "output_type": "display_data"
    }
   ],
   "source": [
    "plt.scatter(southern_df['Wind Speed'],southern_df['Lat'])\n",
    "\n",
    "plt.title('Wind Speed vs Latitude(southern Hemisphere)(2/10/22)')\n",
    "plt.ylabel('Latidude')\n",
    "plt.xlabel('Wind Speed')\n",
    "plt.plot(southern_df['Wind Speed'],slope*southern_df['Wind Speed']+intercept)\n",
    "\n",
    "print('R value:',rvalue)\n",
    "plt.savefig('../output_data/fig12.png')"
   ]
  },
  {
   "cell_type": "code",
   "execution_count": null,
   "metadata": {},
   "outputs": [],
   "source": []
  }
 ],
 "metadata": {
  "anaconda-cloud": {},
  "interpreter": {
   "hash": "6c0f95bb6977bddac7003b24873866c868c99a06744527aa9c0e70cd292082c9"
  },
  "kernel_info": {
   "name": "python3"
  },
  "kernelspec": {
   "display_name": "mypydev",
   "language": "python",
   "name": "python3"
  },
  "language_info": {
   "codemirror_mode": {
    "name": "ipython",
    "version": 3
   },
   "file_extension": ".py",
   "mimetype": "text/x-python",
   "name": "python",
   "nbconvert_exporter": "python",
   "pygments_lexer": "ipython3",
   "version": "3.8.8"
  },
  "latex_envs": {
   "LaTeX_envs_menu_present": true,
   "autoclose": false,
   "autocomplete": true,
   "bibliofile": "biblio.bib",
   "cite_by": "apalike",
   "current_citInitial": 1,
   "eqLabelWithNumbers": true,
   "eqNumInitial": 1,
   "hotkeys": {
    "equation": "Ctrl-E",
    "itemize": "Ctrl-I"
   },
   "labels_anchors": false,
   "latex_user_defs": false,
   "report_style_numbering": false,
   "user_envs_cfg": false
  },
  "nteract": {
   "version": "0.12.3"
  }
 },
 "nbformat": 4,
 "nbformat_minor": 2
}
